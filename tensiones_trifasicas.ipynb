{
 "cells": [
  {
   "cell_type": "code",
   "execution_count": null,
   "id": "import-libraries",
   "metadata": {},
   "outputs": [],
   "source": [
    "import numpy as np\n",
    "import matplotlib.pyplot as plt"
   ]
  },
  {
   "cell_type": "code",
   "execution_count": null,
   "id": "parameters",
   "metadata": {},
   "outputs": [],
   "source": [
    "# Parámetros\n",
    "f = 50  # Frecuencia de la red (Hz)\n",
    "phi = 1.107149611  # Fase\n",
    "w = 2 * np.pi * f  # Velocidad angular\n",
    "sec = 1.05  # Espira\n",
    "B = 1  # Teslas\n",
    "Em = B * w * sec  # Tensión máxima"
   ]
  },
  {
   "cell_type": "code",
   "execution_count": null,
   "id": "time-vector",
   "metadata": {},
   "outputs": [],
   "source": [
    "# Vector de tiempo\n",
    "t = np.arange(0, 60e-3, 0.0001)"
   ]
  },
  {
   "cell_type": "code",
   "execution_count": null,
   "id": "compute-voltages",
   "metadata": {},
   "outputs": [],
   "source": [
    "# Tensiones trifásicas\n",
    "l1 = Em * np.cos(2 * np.pi * f * t)  # Fase R\n",
    "l2 = Em * np.cos(2 * np.pi * f * t - 120 / 360 * 2 * np.pi)  # Fase S\n",
    "l3 = Em * np.cos(2 * np.pi * f * t - 240 / 360 * 2 * np.pi)  # Fase T\n",
    "ref = np.zeros_like(t)  # Línea de referencia"
   ]
  },
  {
   "cell_type": "code",
   "execution_count": null,
   "id": "plot-voltages",
   "metadata": {},
   "outputs": [],
   "source": [
    "# Seleccionar un rango de datos para graficar\n",
    "x_vector = slice(200, 400)\n",
    "\n",
    "# Graficar tensiones trifásicas\n",
    "plt.figure(figsize=(8, 5))\n",
    "plt.plot(l1[x_vector], 'b', label='Fase R')\n",
    "plt.plot(l2[x_vector], 'r', label='Fase S')\n",
    "plt.plot(l3[x_vector], 'g', label='Fase T')\n",
    "plt.plot(ref[x_vector], 'k')\n",
    "\n",
    "# Configurar el eje X\n",
    "plt.xticks([0, 50, 100, 150, 200], ['0', 'π/2', 'π', '3π/2', '2π'])\n",
    "plt.xlim([0, 200])\n",
    "plt.grid(True, linestyle='--', alpha=0.6)\n",
    "plt.legend()\n",
    "plt.title('Tensiones trifásicas instantáneas')\n",
    "plt.xlabel('Tiempo')\n",
    "plt.ylabel('Tensión (V)')\n",
    "plt.show()"
     "#Graficar el Valor Eficaz"
     "RMS=Em/np.sqrt(2)#calculo del valor eficar"
     "plt.text(100, RMS, f'RMS = {RMS:.2f}', ha='center', va='bottom')"
   ]
  },
  {
   "cell_type": "code",
   "execution_count": null,
   "id": "sum-voltages",
   "metadata": {},
   "outputs": [],
   "source": [
    "# Suma de tensiones trifásicas\n",
    "plt.figure(figsize=(8, 5))\n",
    "plt.plot(l1[x_vector] + l2[x_vector] + l3[x_vector], 'b', label='Suma de Fases')\n",
    "plt.axhline(0, color='k', linestyle='--')\n",
    "plt.legend()\n",
    "plt.title('Suma de Tensiones Trifásicas')\n",
    "plt.xlabel('Tiempo')\n",
    "plt.ylabel('Tensión (V)')\n",
    "plt.grid(True, linestyle='--', alpha=0.6)\n",
    "plt.show()"
   ]
  }
 ],
 "metadata": {
  "kernelspec": {
   "display_name": "Python 3",
   "language": "python",
   "name": "python3"
  },
  "language_info": {
   "codemirror_mode": {
    "name": "ipython",
    "version": 3
   },
   "file_extension": ".py",
   "mimetype": "text/x-python",
   "name": "python",
   "nbconvert_exporter": "python",
   "pygments_lexer": "ipython3",
   "version": "3.8"
  }
 },
 "nbformat": 4,
 "nbformat_minor": 4
}
